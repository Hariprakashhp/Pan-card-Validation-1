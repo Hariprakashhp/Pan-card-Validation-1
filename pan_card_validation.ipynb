{
  "nbformat": 4,
  "nbformat_minor": 0,
  "metadata": {
    "colab": {
      "private_outputs": true,
      "provenance": []
    },
    "kernelspec": {
      "name": "python3",
      "display_name": "Python 3"
    },
    "language_info": {
      "name": "python"
    }
  },
  "cells": [
    {
      "cell_type": "code",
      "execution_count": null,
      "metadata": {
        "id": "pXBK9srpv58q"
      },
      "outputs": [],
      "source": [
        "# learning python\n",
        "# Data cleaning process\n",
        "\n"
      ]
    },
    {
      "cell_type": "code",
      "source": [
        "import pandas as pd\n"
      ],
      "metadata": {
        "id": "3KIFUu2K4G6J"
      },
      "execution_count": null,
      "outputs": []
    },
    {
      "cell_type": "code",
      "source": [
        "df = pd.read_excel('/content/drive/MyDrive/PAN Number Validation Dataset.xlsx')"
      ],
      "metadata": {
        "id": "6ODwyxVbDskr"
      },
      "execution_count": null,
      "outputs": []
    },
    {
      "cell_type": "code",
      "source": [
        "df.head(10)"
      ],
      "metadata": {
        "id": "TUcQp-pPD7wB"
      },
      "execution_count": null,
      "outputs": []
    },
    {
      "cell_type": "code",
      "source": [
        "df[\"Pan_Numbers\"] = df[\"Pan_Numbers\"].astype('string').str.strip().str.upper()"
      ],
      "metadata": {
        "id": "QnVwi2KBEnaY"
      },
      "execution_count": null,
      "outputs": []
    },
    {
      "cell_type": "code",
      "source": [
        "df.head(10)"
      ],
      "metadata": {
        "id": "SHWk46RZFDs6"
      },
      "execution_count": null,
      "outputs": []
    },
    {
      "cell_type": "code",
      "source": [
        "# print('\\n')\n",
        "# print(df[df['Pan_Numbers']==''])\n",
        "# print(df[df['Pan_Numbers'].isna()])\n",
        "df = df.replace({\"Pan_Numbers\":''}, pd.NA).dropna(subset=\"Pan_Numbers\")\n"
      ],
      "metadata": {
        "id": "ZlCnUkgdFHG1"
      },
      "execution_count": null,
      "outputs": []
    },
    {
      "cell_type": "code",
      "source": [
        "\n",
        "print('Total records = ',len(df))\n",
        "\n",
        "print('Unique values = ', df[\"Pan_Numbers\"].nunique())\n",
        "\n",
        "df = df.drop_duplicates(subset=\"Pan_Numbers\", keep='first')\n",
        "print('Total records = ',len(df))\n",
        "\n"
      ],
      "metadata": {
        "id": "taR6JCyiJzMg"
      },
      "execution_count": null,
      "outputs": []
    },
    {
      "cell_type": "code",
      "source": [
        "\n",
        "# Validation\n",
        "\n",
        "def has_adjacent_repitition(pan): # AABCD, ABCDX\n",
        "    # for i in range(len(pan)-1):\n",
        "    #     if pan[i] == pan[i+1]:\n",
        "    #         return True\n",
        "    # return False\n",
        "    return any(pan[i] == pan[i+1] for i in range(len(pan)-1))"
      ],
      "metadata": {
        "id": "FfsoRD-gM1CV"
      },
      "execution_count": null,
      "outputs": []
    },
    {
      "cell_type": "code",
      "source": [
        "\n",
        "\n",
        "# print(has_adjacent_repitition('AABCD'))\n",
        "# print(has_adjacent_repitition('FGHHH'))\n",
        "# print(has_adjacent_repitition('ABCDX'))\n",
        "# print(has_adjacent_repitition('MNJPQ'))\n",
        "\n",
        "\n",
        "def is_sequencial(pan): #ABCDE , ACFGT\n",
        "    # for i in range(len(pan)-1):\n",
        "    #     if ord(pan[i+1]) - ord(pan[i]) != 1:\n",
        "    #         return False\n",
        "    # return True\n",
        "    return all(ord(pan[i+1]) - ord(pan[i]) == 1 for i in range(len(pan)-1))"
      ],
      "metadata": {
        "id": "ZLxRLH_uM4fL"
      },
      "execution_count": null,
      "outputs": []
    },
    {
      "cell_type": "code",
      "source": [
        "import re\n",
        "\n",
        "# print(is_sequencial('ABCDE'))\n",
        "# print(is_sequencial('MNOPQ'))\n",
        "# print(is_sequencial('ABCXY'))\n",
        "# print(is_sequencial('XYZAB'))\n",
        "\n",
        "\n",
        "def is_valid_pan(pan):\n",
        "    if len(pan) != 10:\n",
        "        return False\n",
        "\n",
        "    if not re.match(r'^[A-Z]{5}[0-9]{4}[A-Z]$', pan):\n",
        "        return False\n",
        "\n",
        "    if has_adjacent_repitition(pan):\n",
        "        return False\n",
        "\n",
        "    if is_sequencial(pan):\n",
        "        return False\n",
        "\n",
        "    return True"
      ],
      "metadata": {
        "id": "rFKcCoDaM-lU"
      },
      "execution_count": null,
      "outputs": []
    },
    {
      "cell_type": "code",
      "source": [
        "df[\"Status\"] = df[\"Pan_Numbers\"].apply(lambda x: \"Valid\" if is_valid_pan(x) else \"Invalid\")\n",
        "print(df.head(10))\n",
        "\n",
        "valid_cnt = (df[\"Status\"]=='Valid').sum()\n",
        "invalid_cnt = (df[\"Status\"]=='Invalid').sum()\n",
        "total_records = len(df) # Assuming total_records should be the number of records after cleaning\n",
        "missing_cnt = total_records - (valid_cnt+invalid_cnt)"
      ],
      "metadata": {
        "id": "QrgWQaU6Ooeq"
      },
      "execution_count": null,
      "outputs": []
    },
    {
      "cell_type": "code",
      "source": [
        "print('Total records = ', total_records)\n",
        "print('Valid = ', valid_cnt)\n",
        "print('Invalid = ', invalid_cnt)\n",
        "print('Missing = ', missing_cnt)\n"
      ],
      "metadata": {
        "id": "So6dMPdOO34V"
      },
      "execution_count": null,
      "outputs": []
    },
    {
      "cell_type": "code",
      "source": [
        "df_summary = pd.DataFrame({ \"TOTAL PROCESSED RECORDS\":[total_records]\n",
        "                           ,\"TOTAL VALID COUNT\": [valid_cnt]\n",
        "                           ,\"TOTAL INVALID COUNT\": [invalid_cnt]\n",
        "                           ,\"TOTAL MISSING PANS\": [missing_cnt]})\n",
        "print(df_summary.head())\n"
      ],
      "metadata": {
        "id": "YQ4mojeDO_k5"
      },
      "execution_count": null,
      "outputs": []
    },
    {
      "cell_type": "code",
      "source": [
        "with pd.ExcelWriter(\"PAN VALIDATION RESULT.xlsx\") as writer:\n",
        "    df.to_excel(writer, sheet_name=\"PAN Validations\",index=False)\n",
        "    df_summary.to_excel(writer, sheet_name=\"SUMMARY\",index=False)"
      ],
      "metadata": {
        "id": "l2b0gkqQPC6W"
      },
      "execution_count": null,
      "outputs": []
    },
    {
      "cell_type": "code",
      "source": [],
      "metadata": {
        "id": "OLWsic2oPF29"
      },
      "execution_count": null,
      "outputs": []
    }
  ]
}